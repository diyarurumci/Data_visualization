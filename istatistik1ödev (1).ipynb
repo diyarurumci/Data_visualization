{
 "cells": [
  {
   "cell_type": "code",
   "execution_count": 1,
   "id": "c4273042-64ef-424f-8f34-64768e25b660",
   "metadata": {},
   "outputs": [],
   "source": [
    "import pandas as pd\n",
    "import numpy as np \n",
    "import seaborn as sns \n",
    "import pandas as pd\n",
    "from matplotlib import pyplot as plt"
   ]
  },
  {
   "cell_type": "markdown",
   "id": "8d416079-efb5-4c39-ba57-635d4a9aeb4a",
   "metadata": {},
   "source": [
    "1.a = histogram grafiği kullanırdım\n",
    "1.b =  Çizgi grafikler, zaman içerisindeki eğilimleri göstermek ve birçok veri serisini karşılaştırmak için faydalıdır. bu sebeple çizgi gafik kkullanırdım\n",
    "1.c = sütun grafiklerden kullanırdım çünkü Sütun grafikler, ayrık verileri karşılaştırmak ya da zaman içindeki eğilimlerini göstermek için faydalıdır\n",
    "1.d = pasta grafiklerini kullanırım çünkü Pasta grafikler, oranların vurgulanması için faydalıdır."
   ]
  },
  {
   "cell_type": "markdown",
   "id": "a5033285-6467-43d4-b08f-c4dc2293f213",
   "metadata": {},
   "source": [
    "2. alıştırma için pyhton librarlerini kullanacagım\n",
    "2.a = Süreklidir\n"
   ]
  },
  {
   "cell_type": "code",
   "execution_count": 158,
   "id": "b53616f6-ed90-4681-adde-29a9b32b63a9",
   "metadata": {},
   "outputs": [],
   "source": [
    "list = [514, 476, 497, 511, 484, 513, 471, 470, 441, 466, 443, 481, 502, 528, 459, 548, 521, 517, 463,478, 473, 514, 542, \n",
    "        519, 522, 523, 546, 487, 486, 473, 527, 470, 440, 564, 499, 523, 484, 463,461, 437, 555, 525, 461, 539, 466, 470, 486, 490,543, 519]"
   ]
  },
  {
   "cell_type": "code",
   "execution_count": 24,
   "id": "7e0e7e83-bd9f-46e5-b7eb-e1a1a54b39bb",
   "metadata": {},
   "outputs": [],
   "source": [
    "list.sort()"
   ]
  },
  {
   "cell_type": "code",
   "execution_count": 4,
   "id": "deb84194-85cf-427e-b02c-a8584d476817",
   "metadata": {},
   "outputs": [],
   "source": [
    "##2.b çözümü"
   ]
  },
  {
   "cell_type": "code",
   "execution_count": 26,
   "id": "ee071259-3944-4f36-833a-806beaac9699",
   "metadata": {},
   "outputs": [],
   "source": [
    "a = np.histogram(list , bins = 8 , density = False)"
   ]
  },
  {
   "cell_type": "code",
   "execution_count": 27,
   "id": "adcc9cba-de0b-4f9f-b17a-8bd1ef0c13c4",
   "metadata": {},
   "outputs": [
    {
     "data": {
      "text/plain": [
       "(array([ 4,  7, 11,  6,  5, 10,  5,  2], dtype=int64),\n",
       " array([437.   , 452.875, 468.75 , 484.625, 500.5  , 516.375, 532.25 ,\n",
       "        548.125, 564.   ]))"
      ]
     },
     "execution_count": 27,
     "metadata": {},
     "output_type": "execute_result"
    }
   ],
   "source": [
    "a"
   ]
  },
  {
   "cell_type": "code",
   "execution_count": 28,
   "id": "8450b94e-8de5-4156-8f36-21f2be83faba",
   "metadata": {},
   "outputs": [],
   "source": [
    "frekans = [ 4,  7, 11,  6,  5, 10,  5,  2]\n",
    "aralıklar = np.array([(\"437- 452.875\"),(\"452.875-468.75\"),(\"468.75-484.625\"),(\"484.625-500.5\"),(\"500.5-516.375\"),(\"516.375-532.25\"),(\"532.25-548.125\"),(\"548.125-564\")])"
   ]
  },
  {
   "cell_type": "code",
   "execution_count": 29,
   "id": "5e4d7a06-fa5b-4fae-ae87-1cac488a1ca7",
   "metadata": {},
   "outputs": [],
   "source": [
    "df = pd.DataFrame(frekans, index= aralıklar,columns= {\"frekans\"})\n",
    "df.index.rename('Aralıklar', inplace=True)"
   ]
  },
  {
   "cell_type": "code",
   "execution_count": 30,
   "id": "557ac55d-2cf0-444b-bf7d-35ee7331577c",
   "metadata": {},
   "outputs": [
    {
     "data": {
      "text/html": [
       "<div>\n",
       "<style scoped>\n",
       "    .dataframe tbody tr th:only-of-type {\n",
       "        vertical-align: middle;\n",
       "    }\n",
       "\n",
       "    .dataframe tbody tr th {\n",
       "        vertical-align: top;\n",
       "    }\n",
       "\n",
       "    .dataframe thead th {\n",
       "        text-align: right;\n",
       "    }\n",
       "</style>\n",
       "<table border=\"1\" class=\"dataframe\">\n",
       "  <thead>\n",
       "    <tr style=\"text-align: right;\">\n",
       "      <th></th>\n",
       "      <th>frekans</th>\n",
       "    </tr>\n",
       "    <tr>\n",
       "      <th>Aralıklar</th>\n",
       "      <th></th>\n",
       "    </tr>\n",
       "  </thead>\n",
       "  <tbody>\n",
       "    <tr>\n",
       "      <th>437- 452.875</th>\n",
       "      <td>4</td>\n",
       "    </tr>\n",
       "    <tr>\n",
       "      <th>452.875-468.75</th>\n",
       "      <td>7</td>\n",
       "    </tr>\n",
       "    <tr>\n",
       "      <th>468.75-484.625</th>\n",
       "      <td>11</td>\n",
       "    </tr>\n",
       "    <tr>\n",
       "      <th>484.625-500.5</th>\n",
       "      <td>6</td>\n",
       "    </tr>\n",
       "    <tr>\n",
       "      <th>500.5-516.375</th>\n",
       "      <td>5</td>\n",
       "    </tr>\n",
       "    <tr>\n",
       "      <th>516.375-532.25</th>\n",
       "      <td>10</td>\n",
       "    </tr>\n",
       "    <tr>\n",
       "      <th>532.25-548.125</th>\n",
       "      <td>5</td>\n",
       "    </tr>\n",
       "    <tr>\n",
       "      <th>548.125-564</th>\n",
       "      <td>2</td>\n",
       "    </tr>\n",
       "  </tbody>\n",
       "</table>\n",
       "</div>"
      ],
      "text/plain": [
       "                frekans\n",
       "Aralıklar              \n",
       "437- 452.875          4\n",
       "452.875-468.75        7\n",
       "468.75-484.625       11\n",
       "484.625-500.5         6\n",
       "500.5-516.375         5\n",
       "516.375-532.25       10\n",
       "532.25-548.125        5\n",
       "548.125-564           2"
      ]
     },
     "execution_count": 30,
     "metadata": {},
     "output_type": "execute_result"
    }
   ],
   "source": [
    "df"
   ]
  },
  {
   "cell_type": "code",
   "execution_count": 31,
   "id": "5e917f9f-0f8b-4702-9ba4-ff2fb55b9324",
   "metadata": {},
   "outputs": [],
   "source": [
    "## 2c = (468.75-484.625) aralığı 11 frekans ile en ykğsek frekansa sahiptir"
   ]
  },
  {
   "cell_type": "code",
   "execution_count": 37,
   "id": "87bb8b88-2a22-4dbd-ad03-7e2461c04918",
   "metadata": {},
   "outputs": [],
   "source": [
    "##2d çözümü  : \n"
   ]
  },
  {
   "cell_type": "code",
   "execution_count": 46,
   "id": "278f9631-b9b8-4c51-b952-ac40bc48701b",
   "metadata": {},
   "outputs": [],
   "source": [
    "df[\"yüzde frekans\"] = df.frekans*2 "
   ]
  },
  {
   "cell_type": "code",
   "execution_count": 47,
   "id": "d8b1ebf3-234c-44c3-8c99-f1a1b1a8bbd8",
   "metadata": {},
   "outputs": [
    {
     "data": {
      "text/html": [
       "<div>\n",
       "<style scoped>\n",
       "    .dataframe tbody tr th:only-of-type {\n",
       "        vertical-align: middle;\n",
       "    }\n",
       "\n",
       "    .dataframe tbody tr th {\n",
       "        vertical-align: top;\n",
       "    }\n",
       "\n",
       "    .dataframe thead th {\n",
       "        text-align: right;\n",
       "    }\n",
       "</style>\n",
       "<table border=\"1\" class=\"dataframe\">\n",
       "  <thead>\n",
       "    <tr style=\"text-align: right;\">\n",
       "      <th></th>\n",
       "      <th>frekans</th>\n",
       "      <th>yüzde frekans</th>\n",
       "    </tr>\n",
       "    <tr>\n",
       "      <th>Aralıklar</th>\n",
       "      <th></th>\n",
       "      <th></th>\n",
       "    </tr>\n",
       "  </thead>\n",
       "  <tbody>\n",
       "    <tr>\n",
       "      <th>437- 452.875</th>\n",
       "      <td>4</td>\n",
       "      <td>8</td>\n",
       "    </tr>\n",
       "    <tr>\n",
       "      <th>452.875-468.75</th>\n",
       "      <td>7</td>\n",
       "      <td>14</td>\n",
       "    </tr>\n",
       "    <tr>\n",
       "      <th>468.75-484.625</th>\n",
       "      <td>11</td>\n",
       "      <td>22</td>\n",
       "    </tr>\n",
       "    <tr>\n",
       "      <th>484.625-500.5</th>\n",
       "      <td>6</td>\n",
       "      <td>12</td>\n",
       "    </tr>\n",
       "    <tr>\n",
       "      <th>500.5-516.375</th>\n",
       "      <td>5</td>\n",
       "      <td>10</td>\n",
       "    </tr>\n",
       "    <tr>\n",
       "      <th>516.375-532.25</th>\n",
       "      <td>10</td>\n",
       "      <td>20</td>\n",
       "    </tr>\n",
       "    <tr>\n",
       "      <th>532.25-548.125</th>\n",
       "      <td>5</td>\n",
       "      <td>10</td>\n",
       "    </tr>\n",
       "    <tr>\n",
       "      <th>548.125-564</th>\n",
       "      <td>2</td>\n",
       "      <td>4</td>\n",
       "    </tr>\n",
       "  </tbody>\n",
       "</table>\n",
       "</div>"
      ],
      "text/plain": [
       "                frekans  yüzde frekans\n",
       "Aralıklar                             \n",
       "437- 452.875          4              8\n",
       "452.875-468.75        7             14\n",
       "468.75-484.625       11             22\n",
       "484.625-500.5         6             12\n",
       "500.5-516.375         5             10\n",
       "516.375-532.25       10             20\n",
       "532.25-548.125        5             10\n",
       "548.125-564           2              4"
      ]
     },
     "execution_count": 47,
     "metadata": {},
     "output_type": "execute_result"
    }
   ],
   "source": [
    "df"
   ]
  },
  {
   "cell_type": "code",
   "execution_count": 48,
   "id": "735876bc-4b2d-4645-b4d5-9d5ac88b85e7",
   "metadata": {},
   "outputs": [],
   "source": [
    "##2.e çözümü"
   ]
  },
  {
   "cell_type": "code",
   "execution_count": 65,
   "id": "677a934d-03a6-4b06-81f0-6f2b46734d9f",
   "metadata": {},
   "outputs": [],
   "source": [
    "x_ = np.array([437, 452.875, 468.75 , 484.625, 500.5  , 516.375, 532.25 ,\n",
    "        548.125, 564])"
   ]
  },
  {
   "cell_type": "code",
   "execution_count": 123,
   "id": "e10e0ebc-0fca-49fb-b706-863017a6705e",
   "metadata": {},
   "outputs": [
    {
     "data": {
      "image/png": "[encoded data removed]",
      "text/plain": [
       "<Figure size 1400x800 with 1 Axes>"
      ]
     },
     "metadata": {},
     "output_type": "display_data"
    }
   ],
   "source": [
    "plt.figure(figsize = (14,8))\n",
    "plt.hist(list, bins = 8 , label = \"yüzde frekans\" )\n",
    "plt.xlabel(\"aralıklar\")\n",
    "plt.xticks(x_)\n",
    "plt.ylabel(\"yüzde frekans\")\n",
    "plt.title(\"yüzde frekans tablosu\")\n",
    "\n",
    "plt.show()"
   ]
  },
  {
   "cell_type": "code",
   "execution_count": 127,
   "id": "fd3e3b93-ed95-402e-921f-26169b552aea",
   "metadata": {},
   "outputs": [],
   "source": [
    "##2.f  = en çok 468.8 ile 484.6 aralıgında değerler görüyoruz , çok dağınık bir veri dizisi değil ama hafif positif(right skewness) açıklık var diyebiliyoruz.\n",
    "## ouitlier değerler yok \n"
   ]
  },
  {
   "cell_type": "code",
   "execution_count": 129,
   "id": "6ff539b1-6702-48bd-8ec5-49a1956b8c17",
   "metadata": {},
   "outputs": [],
   "source": [
    "## 2.e çözümü : \n",
    "## önce bunun için gerekli olan libraryleri çekiyoruz \n"
   ]
  },
  {
   "cell_type": "code",
   "execution_count": 130,
   "id": "2d648432-a690-406d-bf96-efe3893affc8",
   "metadata": {
    "collapsed": true,
    "jupyter": {
     "outputs_hidden": true
    },
    "tags": []
   },
   "outputs": [
    {
     "name": "stdout",
     "output_type": "stream",
     "text": [
      "Collecting stemgraphic\n",
      "  Downloading stemgraphic-0.9.1-py3-none-any.whl (61 kB)\n",
      "     -------------------------------------- 61.9/61.9 kB 550.0 kB/s eta 0:00:00\n",
      "Collecting docopt\n",
      "  Downloading docopt-0.6.2.tar.gz (25 kB)\n",
      "  Preparing metadata (setup.py): started\n",
      "  Preparing metadata (setup.py): finished with status 'done'\n",
      "Requirement already satisfied: pandas in c:\\users\\diyar\\anaconda3\\lib\\site-packages (from stemgraphic) (1.4.4)\n",
      "Requirement already satisfied: seaborn in c:\\users\\diyar\\anaconda3\\lib\\site-packages (from stemgraphic) (0.11.2)\n",
      "Requirement already satisfied: matplotlib in c:\\users\\diyar\\anaconda3\\lib\\site-packages (from stemgraphic) (3.5.2)\n",
      "Requirement already satisfied: cycler>=0.10 in c:\\users\\diyar\\anaconda3\\lib\\site-packages (from matplotlib->stemgraphic) (0.11.0)\n",
      "Requirement already satisfied: fonttools>=4.22.0 in c:\\users\\diyar\\anaconda3\\lib\\site-packages (from matplotlib->stemgraphic) (4.25.0)\n",
      "Requirement already satisfied: numpy>=1.17 in c:\\users\\diyar\\anaconda3\\lib\\site-packages (from matplotlib->stemgraphic) (1.21.5)\n",
      "Requirement already satisfied: pyparsing>=2.2.1 in c:\\users\\diyar\\anaconda3\\lib\\site-packages (from matplotlib->stemgraphic) (3.0.9)\n",
      "Requirement already satisfied: kiwisolver>=1.0.1 in c:\\users\\diyar\\anaconda3\\lib\\site-packages (from matplotlib->stemgraphic) (1.4.2)\n",
      "Requirement already satisfied: pillow>=6.2.0 in c:\\users\\diyar\\anaconda3\\lib\\site-packages (from matplotlib->stemgraphic) (9.2.0)\n",
      "Requirement already satisfied: packaging>=20.0 in c:\\users\\diyar\\anaconda3\\lib\\site-packages (from matplotlib->stemgraphic) (21.3)\n",
      "Requirement already satisfied: python-dateutil>=2.7 in c:\\users\\diyar\\anaconda3\\lib\\site-packages (from matplotlib->stemgraphic) (2.8.2)\n",
      "Requirement already satisfied: pytz>=2020.1 in c:\\users\\diyar\\anaconda3\\lib\\site-packages (from pandas->stemgraphic) (2022.1)\n",
      "Requirement already satisfied: scipy>=1.0 in c:\\users\\diyar\\anaconda3\\lib\\site-packages (from seaborn->stemgraphic) (1.7.3)\n",
      "Requirement already satisfied: six>=1.5 in c:\\users\\diyar\\anaconda3\\lib\\site-packages (from python-dateutil>=2.7->matplotlib->stemgraphic) (1.16.0)\n",
      "Building wheels for collected packages: docopt\n",
      "  Building wheel for docopt (setup.py): started\n",
      "  Building wheel for docopt (setup.py): finished with status 'done'\n",
      "  Created wheel for docopt: filename=docopt-0.6.2-py2.py3-none-any.whl size=13706 sha256=e165520aafefc3412a36f7a171aa66826400646abec133b022e2ae93f3986b52\n",
      "  Stored in directory: c:\\users\\diyar\\appdata\\local\\pip\\cache\\wheels\\70\\4a\\46\\1309fc853b8d395e60bafaf1b6df7845bdd82c95fd59dd8d2b\n",
      "Successfully built docopt\n",
      "Installing collected packages: docopt, stemgraphic\n",
      "Successfully installed docopt-0.6.2 stemgraphic-0.9.1\n"
     ]
    }
   ],
   "source": [
    "import sys\n",
    "!{sys.executable} -m pip install stemgraphic\n"
   ]
  },
  {
   "cell_type": "code",
   "execution_count": 133,
   "id": "236136b0-3459-4b16-a021-cdea81d679b7",
   "metadata": {
    "tags": []
   },
   "outputs": [
    {
     "data": {
      "text/plain": [
       "(<Figure size 750x425 with 1 Axes>, <Axes:>)"
      ]
     },
     "execution_count": 133,
     "metadata": {},
     "output_type": "execute_result"
    },
    {
     "data": {
      "image/png": "[encoded data removed]",
      "text/plain": [
       "<Figure size 750x425 with 1 Axes>"
      ]
     },
     "metadata": {},
     "output_type": "display_data"
    }
   ],
   "source": [
    "import stemgraphic\n",
    "\n",
    "stemgraphic.stem_graphic(list )"
   ]
  },
  {
   "cell_type": "code",
   "execution_count": 136,
   "id": "5632932d-51a2-4d84-b4df-3a118c774b92",
   "metadata": {},
   "outputs": [],
   "source": [
    "## 2.h çözümü : (hocaya sorulacak)"
   ]
  },
  {
   "cell_type": "code",
   "execution_count": 160,
   "id": "55c1d9ea-ee09-4bc4-8543-82423bad2551",
   "metadata": {},
   "outputs": [
    {
     "data": {
      "text/plain": [
       "50"
      ]
     },
     "execution_count": 160,
     "metadata": {},
     "output_type": "execute_result"
    }
   ],
   "source": [
    "len(list)"
   ]
  },
  {
   "cell_type": "code",
   "execution_count": 161,
   "id": "778b6ef9-142f-4e61-9927-4b29eba1b7b0",
   "metadata": {},
   "outputs": [],
   "source": [
    "list.append(600)\n",
    "list.append(620)"
   ]
  },
  {
   "cell_type": "code",
   "execution_count": 162,
   "id": "de0acd98-c396-4dfd-99eb-6c9ff70a51c0",
   "metadata": {},
   "outputs": [
    {
     "data": {
      "text/plain": [
       "(<Figure size 750x575 with 1 Axes>, <Axes:>)"
      ]
     },
     "execution_count": 162,
     "metadata": {},
     "output_type": "execute_result"
    },
    {
     "data": {
      "image/png": "[encoded data removed]",
      "text/plain": [
       "<Figure size 750x575 with 1 Axes>"
      ]
     },
     "metadata": {},
     "output_type": "display_data"
    }
   ],
   "source": [
    "stemgraphic.stem_graphic(list )"
   ]
  },
  {
   "cell_type": "markdown",
   "id": "bbeee588-b4a8-46b2-bdf6-5be59182de3f",
   "metadata": {},
   "source": [
    "620 değerinde 1 tane outlierimiz var , boxplot ile outlierleri tespit edebiliyoruz"
   ]
  },
  {
   "cell_type": "markdown",
   "id": "05a7ff43-9b25-47ce-84f4-6753236c0155",
   "metadata": {},
   "source": [
    "tahmini veriler oluşturacağım bu sayede elimde histogram için bir liste olacak direk dataframeden de histogram yapabiiyoruz fakat bunun için listeye ihtiyacımız var ancak elimizde aralık ve freanslarvar  bu nedenle hist koutu yerine bar plot kullanarak çok kolayca halledebiliriz"
   ]
  },
  {
   "cell_type": "code",
   "execution_count": null,
   "id": "41e15480-9970-4014-99e0-ea0606d2b81a",
   "metadata": {},
   "outputs": [],
   "source": [
    "df = pd.DataFrame(index  = )"
   ]
  },
  {
   "cell_type": "code",
   "execution_count": 307,
   "id": "681c85f6-30d9-4482-bb54-809854e0c75d",
   "metadata": {},
   "outputs": [
    {
     "data": {
      "image/png": "[encoded data removed]",
      "text/plain": [
       "<Figure size 1400x800 with 1 Axes>"
      ]
     },
     "metadata": {},
     "output_type": "display_data"
    },
    {
     "name": "stdout",
     "output_type": "stream",
     "text": [
      "15\n",
      "15\n"
     ]
    }
   ],
   "source": [
    "##3.a  çözümü : \n",
    "\n",
    "\n",
    "\n",
    "ranges = [\"6-8\", \"8-10\", \"10-12\", \"12-14\", \"14-16\", \"16-18\", \"18-20\", \"20-22\", \"22-24\", \"24-26\", \"26-28\", \"28-30\", \"30-35\", \"35-40\", \"40-45\"]\n",
    "frequencies = [6, 23, 30, 35, 32, 48, 42,40, 28, 27,26, 14, 27, 11, 12]\n",
    "plt.figure(figsize = (14,8))\n",
    "plt.bar(ranges, frequencies)\n",
    "plt.title(\"Rota uzunlkları frekans tablosu\")\n",
    "plt.xlabel(\"Rota uzunluğu (km)\")\n",
    "plt.ylabel(\"Frekans\")\n",
    "plt.show()\n",
    "\n",
    "print(len(frequencies))\n",
    "print(len(ranges))"
   ]
  },
  {
   "cell_type": "markdown",
   "id": "8864dda7-3b7e-4286-9238-30eefd600c3f",
   "metadata": {},
   "source": [
    "positif skew sağa çarpık "
   ]
  },
  {
   "cell_type": "markdown",
   "id": "594048e3-6c06-445d-af54-801a68b475d4",
   "metadata": {},
   "source": [
    "toplama fonksiyonu yaptım kolayca hesaplayıp oranlamak için"
   ]
  },
  {
   "cell_type": "code",
   "execution_count": 329,
   "id": "ca9150e0-702b-4aca-b40f-dc3c2a024fbc",
   "metadata": {},
   "outputs": [
    {
     "name": "stdout",
     "output_type": "stream",
     "text": [
      "401\n"
     ]
    },
    {
     "data": {
      "text/plain": [
       "216"
      ]
     },
     "execution_count": 329,
     "metadata": {},
     "output_type": "execute_result"
    }
   ],
   "source": [
    "def uzunluk(liste):\n",
    "    a = 0\n",
    "    for i in liste : \n",
    "        a += i\n",
    "    return a \n",
    "print(uzunluk(frequencies))\n",
    "uzunluk(yirmidenaz)"
   ]
  },
  {
   "cell_type": "code",
   "execution_count": 326,
   "id": "bbb2544d-e0c0-4147-81a7-7bd17253261f",
   "metadata": {},
   "outputs": [
    {
     "data": {
      "text/plain": [
       "[6, 23, 30, 35, 32, 48, 42]"
      ]
     },
     "execution_count": 326,
     "metadata": {},
     "output_type": "execute_result"
    }
   ],
   "source": [
    "yirmidenaz = frequencies[0:7]\n",
    "yirmidenaz"
   ]
  },
  {
   "cell_type": "code",
   "execution_count": null,
   "id": "447d205b-4cc6-40f7-827e-191b55e0abac",
   "metadata": {},
   "outputs": [
    {
     "data": {
      "text/plain": [
       "0.5386533665835411"
      ]
     },
     "execution_count": 332,
     "metadata": {},
     "output_type": "execute_result"
    }
   ],
   "source": [
    "##3.b  çözümü : \n",
    "oran_20km = uzunluk(yirmidenaz)/uzunluk(frequencies)\n",
    "oran_20km\n",
    "##cevap = %5386533665835411\n"
   ]
  },
  {
   "cell_type": "markdown",
   "id": "9223197b-db7b-4593-a533-267e532db81d",
   "metadata": {},
   "source": [
    "şimdi dataframe haline getireceim ki diğer işlemleri daha rahat yapayım istatistik işlermleri için dataframe kullanmayı tercih ediyorum"
   ]
  },
  {
   "cell_type": "code",
   "execution_count": 336,
   "id": "041436e4-6114-4dca-9b8b-14f89e7e85ea",
   "metadata": {},
   "outputs": [
    {
     "data": {
      "text/html": [
       "<div>\n",
       "<style scoped>\n",
       "    .dataframe tbody tr th:only-of-type {\n",
       "        vertical-align: middle;\n",
       "    }\n",
       "\n",
       "    .dataframe tbody tr th {\n",
       "        vertical-align: top;\n",
       "    }\n",
       "\n",
       "    .dataframe thead th {\n",
       "        text-align: right;\n",
       "    }\n",
       "</style>\n",
       "<table border=\"1\" class=\"dataframe\">\n",
       "  <thead>\n",
       "    <tr style=\"text-align: right;\">\n",
       "      <th></th>\n",
       "      <th>frekans</th>\n",
       "    </tr>\n",
       "    <tr>\n",
       "      <th>Aralıklar</th>\n",
       "      <th></th>\n",
       "    </tr>\n",
       "  </thead>\n",
       "  <tbody>\n",
       "    <tr>\n",
       "      <th>6-8</th>\n",
       "      <td>6</td>\n",
       "    </tr>\n",
       "    <tr>\n",
       "      <th>8-10</th>\n",
       "      <td>23</td>\n",
       "    </tr>\n",
       "    <tr>\n",
       "      <th>10-12</th>\n",
       "      <td>30</td>\n",
       "    </tr>\n",
       "    <tr>\n",
       "      <th>12-14</th>\n",
       "      <td>35</td>\n",
       "    </tr>\n",
       "    <tr>\n",
       "      <th>14-16</th>\n",
       "      <td>32</td>\n",
       "    </tr>\n",
       "    <tr>\n",
       "      <th>16-18</th>\n",
       "      <td>48</td>\n",
       "    </tr>\n",
       "    <tr>\n",
       "      <th>18-20</th>\n",
       "      <td>42</td>\n",
       "    </tr>\n",
       "    <tr>\n",
       "      <th>20-22</th>\n",
       "      <td>40</td>\n",
       "    </tr>\n",
       "    <tr>\n",
       "      <th>22-24</th>\n",
       "      <td>28</td>\n",
       "    </tr>\n",
       "    <tr>\n",
       "      <th>24-26</th>\n",
       "      <td>27</td>\n",
       "    </tr>\n",
       "    <tr>\n",
       "      <th>26-28</th>\n",
       "      <td>26</td>\n",
       "    </tr>\n",
       "    <tr>\n",
       "      <th>28-30</th>\n",
       "      <td>14</td>\n",
       "    </tr>\n",
       "    <tr>\n",
       "      <th>30-35</th>\n",
       "      <td>27</td>\n",
       "    </tr>\n",
       "    <tr>\n",
       "      <th>35-40</th>\n",
       "      <td>11</td>\n",
       "    </tr>\n",
       "    <tr>\n",
       "      <th>40-45</th>\n",
       "      <td>12</td>\n",
       "    </tr>\n",
       "  </tbody>\n",
       "</table>\n",
       "</div>"
      ],
      "text/plain": [
       "           frekans\n",
       "Aralıklar         \n",
       "6-8              6\n",
       "8-10            23\n",
       "10-12           30\n",
       "12-14           35\n",
       "14-16           32\n",
       "16-18           48\n",
       "18-20           42\n",
       "20-22           40\n",
       "22-24           28\n",
       "24-26           27\n",
       "26-28           26\n",
       "28-30           14\n",
       "30-35           27\n",
       "35-40           11\n",
       "40-45           12"
      ]
     },
     "execution_count": 336,
     "metadata": {},
     "output_type": "execute_result"
    }
   ],
   "source": [
    "df = pd.DataFrame(frequencies, index= ranges,columns= {\"frekans\"})\n",
    "df.index.rename('Aralıklar', inplace=True)\n",
    "df"
   ]
  },
  {
   "cell_type": "code",
   "execution_count": 363,
   "id": "180e92ba-5637-489c-a1cc-96f22daa59e4",
   "metadata": {},
   "outputs": [
    {
     "data": {
      "text/plain": [
       "360.90000000000003"
      ]
     },
     "execution_count": 363,
     "metadata": {},
     "output_type": "execute_result"
    }
   ],
   "source": [
    "## 3.c :\n",
    "\n",
    "x_yeri = 401*0.90\n",
    "x_yeri"
   ]
  },
  {
   "cell_type": "markdown",
   "id": "0b77d9a8-5866-4ad6-a2a7-1f757f6b3d29",
   "metadata": {},
   "source": [
    "30 - 35 aralıgında olacaktır  aşağıda formulu yazıp tahmini sonucumu bualacagıım"
   ]
  },
  {
   "cell_type": "code",
   "execution_count": 366,
   "id": "c4a73d12-c47d-493c-b4fa-313d2aced2e6",
   "metadata": {},
   "outputs": [
    {
     "data": {
      "text/plain": [
       "31.83333333333334"
      ]
     },
     "execution_count": 366,
     "metadata": {},
     "output_type": "execute_result"
    }
   ],
   "source": [
    "b = 30 + (5/27)*(x_yeri-351)\n",
    "b"
   ]
  },
  {
   "cell_type": "code",
   "execution_count": 368,
   "id": "da3f93bc-ee6b-4ff5-823b-6631514035cb",
   "metadata": {},
   "outputs": [],
   "source": [
    "##3.c cevabı : 31.83333333333334"
   ]
  },
  {
   "cell_type": "code",
   "execution_count": 369,
   "id": "64ca57f4-1384-44f8-b380-a7a8a39cae8d",
   "metadata": {},
   "outputs": [
    {
     "data": {
      "text/plain": [
       "31.83333333333334"
      ]
     },
     "execution_count": 369,
     "metadata": {},
     "output_type": "execute_result"
    }
   ],
   "source": [
    "31.83333333333334"
   ]
  },
  {
   "cell_type": "code",
   "execution_count": 352,
   "id": "ca321b80-7e9d-4861-9d82-dcbb4000b77d",
   "metadata": {},
   "outputs": [
    {
     "data": {
      "text/plain": [
       "19.261904761904763"
      ]
     },
     "execution_count": 352,
     "metadata": {},
     "output_type": "execute_result"
    }
   ],
   "source": [
    "tahmini_medyan = 18 + (53/42)()\n",
    "tahmini_medyan"
   ]
  },
  {
   "cell_type": "code",
   "execution_count": 364,
   "id": "80972795-16be-419e-8a77-41075cc0a847",
   "metadata": {},
   "outputs": [],
   "source": [
    "##3.d çözümü : \n",
    "##    medyanın index numarası : 402/2 = 201\n",
    "## medyan aralığı :  18-20 aralığında\n",
    "## tahmini medyan değeri : 19.261904761904763 (CEVAP!!!)"
   ]
  },
  {
   "cell_type": "code",
   "execution_count": 365,
   "id": "3d165aff-b904-4e0f-b050-33bde81bfbb8",
   "metadata": {},
   "outputs": [
    {
     "name": "stdout",
     "output_type": "stream",
     "text": [
      "           frekans\n",
      "Aralıklar         \n",
      "6-8              6\n",
      "8-10            23\n",
      "10-12           30\n",
      "12-14           35\n",
      "14-16           32\n",
      "16-18           48\n",
      "18-20           42\n",
      "20-22           40\n",
      "22-24           28\n",
      "24-26           27\n",
      "26-28           26\n",
      "28-30           14\n"
     ]
    },
    {
     "data": {
      "text/plain": [
       "frekans    351\n",
       "dtype: int64"
      ]
     },
     "execution_count": 365,
     "metadata": {},
     "output_type": "execute_result"
    }
   ],
   "source": [
    "print(df.iloc[0:12])\n",
    "df.iloc[0:12].sum()"
   ]
  },
  {
   "cell_type": "code",
   "execution_count": 349,
   "id": "b6d30cb7-8bd3-40f9-b8a7-057a3abf8b15",
   "metadata": {},
   "outputs": [
    {
     "data": {
      "text/plain": [
       "401"
      ]
     },
     "execution_count": 349,
     "metadata": {},
     "output_type": "execute_result"
    }
   ],
   "source": [
    "df[\"frekans\"].sum()"
   ]
  },
  {
   "cell_type": "code",
   "execution_count": null,
   "id": "cc66615c-155a-4c20-b716-0e3267876625",
   "metadata": {},
   "outputs": [],
   "source": []
  }
 ],
 "metadata": {
  "kernelspec": {
   "display_name": "Python 3 (ipykernel)",
   "language": "python",
   "name": "python3"
  },
  "language_info": {
   "codemirror_mode": {
    "name": "ipython",
    "version": 3
   },
   "file_extension": ".py",
   "mimetype": "text/x-python",
   "name": "python",
   "nbconvert_exporter": "python",
   "pygments_lexer": "ipython3",
   "version": "3.9.13"
  }
 },
 "nbformat": 4,
 "nbformat_minor": 5
}
