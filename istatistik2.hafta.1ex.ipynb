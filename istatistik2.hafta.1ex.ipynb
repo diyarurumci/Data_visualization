{
 "cells": [
  {
   "cell_type": "code",
   "execution_count": 136,
   "id": "1d3c0bf2-8c7f-42f3-a004-81e87d64c90b",
   "metadata": {},
   "outputs": [],
   "source": [
    "import pandas as pd \n",
    "import seaborn as sns\n",
    "import numpy as np \n",
    "from matplotlib import pyplot as plt \n",
    "from scipy import stats\n",
    "from sklearn.preprocessing import LabelEncoder\n",
    "from sklearn import preprocessing"
   ]
  },
  {
   "cell_type": "code",
   "execution_count": 137,
   "id": "eb1c6413-bda2-4976-b2bb-aaae567eb49b",
   "metadata": {},
   "outputs": [],
   "source": [
    "list = [91,78,93,57,75,52,99,80,97,62,71,69,72,89,66,75,79,75,72,76,104,74,62,68,97,105,77,65,80,109,85,97,88,68,83,68,71,69,67,74,62,82,98,101,79,105,79,69,62,73]"
   ]
  },
  {
   "cell_type": "code",
   "execution_count": 138,
   "id": "ae30c507-2f26-4737-9bcd-11983c5e5432",
   "metadata": {},
   "outputs": [],
   "source": [
    "df = pd.DataFrame(list, columns = [\"values\"])"
   ]
  },
  {
   "cell_type": "code",
   "execution_count": 139,
   "id": "92e1040e-6c80-4abf-b44c-69a180eecfea",
   "metadata": {},
   "outputs": [],
   "source": [
    "list.sort()"
   ]
  },
  {
   "cell_type": "code",
   "execution_count": 140,
   "id": "a883dab4-06d3-4dd1-bed2-bb13ec75fa06",
   "metadata": {},
   "outputs": [
    {
     "data": {
      "text/plain": [
       "50"
      ]
     },
     "execution_count": 140,
     "metadata": {},
     "output_type": "execute_result"
    }
   ],
   "source": [
    "len(list)"
   ]
  },
  {
   "cell_type": "code",
   "execution_count": 175,
   "id": "493030e5-79cc-4153-9cce-fb65e2060b6f",
   "metadata": {},
   "outputs": [
    {
     "data": {
      "text/plain": [
       "(array([ 2, 13, 18,  5,  7,  5], dtype=int64),\n",
       " array([ 52. ,  61.5,  71. ,  80.5,  90. ,  99.5, 109. ]))"
      ]
     },
     "execution_count": 175,
     "metadata": {},
     "output_type": "execute_result"
    }
   ],
   "source": [
    "a = np.histogram(list,bins = 6 ,density = False)  \n",
    "a"
   ]
  },
  {
   "cell_type": "code",
   "execution_count": 228,
   "id": "45746a2a-8d8c-49e3-bab0-25edbb02f0fc",
   "metadata": {},
   "outputs": [],
   "source": [
    "\n",
    "liste = [ 2, 13, 18,  5,  7,  5]"
   ]
  },
  {
   "cell_type": "code",
   "execution_count": 229,
   "id": "4b973541-859a-4030-b648-2f78a955ae6b",
   "metadata": {},
   "outputs": [
    {
     "name": "stdout",
     "output_type": "stream",
     "text": [
      "1\n"
     ]
    },
    {
     "data": {
      "text/plain": [
       "array(['52 -61.5', '61.5-71', '71-80.5', '80.5-90', '90-99.5', '99.5-109'],\n",
       "      dtype='<U8')"
      ]
     },
     "execution_count": 229,
     "metadata": {},
     "output_type": "execute_result"
    }
   ],
   "source": [
    "dist = np.array([(\"52 -61.5\"),(\"61.5-71\"),(\"71-80.5\"),(\"80.5-90\"),(\"90-99.5\"),(\"99.5-109\")])\n",
    "print(dist.ndim)\n",
    "dist"
   ]
  },
  {
   "cell_type": "code",
   "execution_count": 230,
   "id": "caff3b5c-89be-4493-baea-eb1ef6e85f28",
   "metadata": {},
   "outputs": [
    {
     "data": {
      "text/plain": [
       "1"
      ]
     },
     "execution_count": 230,
     "metadata": {},
     "output_type": "execute_result"
    }
   ],
   "source": [
    "frequancy =  np.array([2,13,18,5,7,5])\n",
    "frequancy.ndim"
   ]
  },
  {
   "cell_type": "code",
   "execution_count": 231,
   "id": "691b4cbb-8e67-4f8e-94dc-53a1af82a013",
   "metadata": {},
   "outputs": [
    {
     "data": {
      "text/html": [
       "<div>\n",
       "<style scoped>\n",
       "    .dataframe tbody tr th:only-of-type {\n",
       "        vertical-align: middle;\n",
       "    }\n",
       "\n",
       "    .dataframe tbody tr th {\n",
       "        vertical-align: top;\n",
       "    }\n",
       "\n",
       "    .dataframe thead th {\n",
       "        text-align: right;\n",
       "    }\n",
       "</style>\n",
       "<table border=\"1\" class=\"dataframe\">\n",
       "  <thead>\n",
       "    <tr style=\"text-align: right;\">\n",
       "      <th></th>\n",
       "      <th>frekans</th>\n",
       "      <th>indec</th>\n",
       "    </tr>\n",
       "    <tr>\n",
       "      <th>indec</th>\n",
       "      <th></th>\n",
       "      <th></th>\n",
       "    </tr>\n",
       "  </thead>\n",
       "  <tbody>\n",
       "    <tr>\n",
       "      <th>52 -61.5</th>\n",
       "      <td>2</td>\n",
       "      <td>52 -61.5</td>\n",
       "    </tr>\n",
       "    <tr>\n",
       "      <th>61.5-71</th>\n",
       "      <td>13</td>\n",
       "      <td>61.5-71</td>\n",
       "    </tr>\n",
       "    <tr>\n",
       "      <th>71-80.5</th>\n",
       "      <td>18</td>\n",
       "      <td>71-80.5</td>\n",
       "    </tr>\n",
       "    <tr>\n",
       "      <th>80.5-90</th>\n",
       "      <td>5</td>\n",
       "      <td>80.5-90</td>\n",
       "    </tr>\n",
       "    <tr>\n",
       "      <th>90-99.5</th>\n",
       "      <td>7</td>\n",
       "      <td>90-99.5</td>\n",
       "    </tr>\n",
       "    <tr>\n",
       "      <th>99.5-109</th>\n",
       "      <td>5</td>\n",
       "      <td>99.5-109</td>\n",
       "    </tr>\n",
       "  </tbody>\n",
       "</table>\n",
       "</div>"
      ],
      "text/plain": [
       "          frekans     indec\n",
       "indec                      \n",
       "52 -61.5        2  52 -61.5\n",
       "61.5-71        13   61.5-71\n",
       "71-80.5        18   71-80.5\n",
       "80.5-90         5   80.5-90\n",
       "90-99.5         7   90-99.5\n",
       "99.5-109        5  99.5-109"
      ]
     },
     "execution_count": 231,
     "metadata": {},
     "output_type": "execute_result"
    }
   ],
   "source": [
    "dff_1 = pd.DataFrame(frequancy, columns = [\"frekans\"])\n",
    "dff[\"indec\"] = dist\n",
    "dff.set_index(dff[\"indec\"])\n"
   ]
  },
  {
   "cell_type": "code",
   "execution_count": 232,
   "id": "1a08a144-c6a6-4182-a6e2-3a5d8875c980",
   "metadata": {},
   "outputs": [
    {
     "data": {
      "text/html": [
       "<div>\n",
       "<style scoped>\n",
       "    .dataframe tbody tr th:only-of-type {\n",
       "        vertical-align: middle;\n",
       "    }\n",
       "\n",
       "    .dataframe tbody tr th {\n",
       "        vertical-align: top;\n",
       "    }\n",
       "\n",
       "    .dataframe thead th {\n",
       "        text-align: right;\n",
       "    }\n",
       "</style>\n",
       "<table border=\"1\" class=\"dataframe\">\n",
       "  <thead>\n",
       "    <tr style=\"text-align: right;\">\n",
       "      <th></th>\n",
       "      <th>frekans</th>\n",
       "    </tr>\n",
       "  </thead>\n",
       "  <tbody>\n",
       "    <tr>\n",
       "      <th>0</th>\n",
       "      <td>2</td>\n",
       "    </tr>\n",
       "    <tr>\n",
       "      <th>1</th>\n",
       "      <td>13</td>\n",
       "    </tr>\n",
       "    <tr>\n",
       "      <th>2</th>\n",
       "      <td>18</td>\n",
       "    </tr>\n",
       "    <tr>\n",
       "      <th>3</th>\n",
       "      <td>5</td>\n",
       "    </tr>\n",
       "    <tr>\n",
       "      <th>4</th>\n",
       "      <td>7</td>\n",
       "    </tr>\n",
       "    <tr>\n",
       "      <th>5</th>\n",
       "      <td>5</td>\n",
       "    </tr>\n",
       "  </tbody>\n",
       "</table>\n",
       "</div>"
      ],
      "text/plain": [
       "   frekans\n",
       "0        2\n",
       "1       13\n",
       "2       18\n",
       "3        5\n",
       "4        7\n",
       "5        5"
      ]
     },
     "execution_count": 232,
     "metadata": {},
     "output_type": "execute_result"
    }
   ],
   "source": [
    "dff_1"
   ]
  },
  {
   "cell_type": "code",
   "execution_count": 233,
   "id": "c6e39194-8f99-4d84-962c-806c28c9512a",
   "metadata": {},
   "outputs": [],
   "source": [
    "dff_1 = dff_1.set_index(dff[\"indec\"])"
   ]
  },
  {
   "cell_type": "code",
   "execution_count": 234,
   "id": "b62ecb8f-1d9f-4596-b56f-938562f321bd",
   "metadata": {},
   "outputs": [
    {
     "data": {
      "text/html": [
       "<div>\n",
       "<style scoped>\n",
       "    .dataframe tbody tr th:only-of-type {\n",
       "        vertical-align: middle;\n",
       "    }\n",
       "\n",
       "    .dataframe tbody tr th {\n",
       "        vertical-align: top;\n",
       "    }\n",
       "\n",
       "    .dataframe thead th {\n",
       "        text-align: right;\n",
       "    }\n",
       "</style>\n",
       "<table border=\"1\" class=\"dataframe\">\n",
       "  <thead>\n",
       "    <tr style=\"text-align: right;\">\n",
       "      <th></th>\n",
       "      <th>frekans</th>\n",
       "    </tr>\n",
       "    <tr>\n",
       "      <th>indec</th>\n",
       "      <th></th>\n",
       "    </tr>\n",
       "  </thead>\n",
       "  <tbody>\n",
       "    <tr>\n",
       "      <th>52 -61.5</th>\n",
       "      <td>2</td>\n",
       "    </tr>\n",
       "    <tr>\n",
       "      <th>61.5-71</th>\n",
       "      <td>13</td>\n",
       "    </tr>\n",
       "    <tr>\n",
       "      <th>71-80.5</th>\n",
       "      <td>18</td>\n",
       "    </tr>\n",
       "    <tr>\n",
       "      <th>80.5-90</th>\n",
       "      <td>5</td>\n",
       "    </tr>\n",
       "    <tr>\n",
       "      <th>90-99.5</th>\n",
       "      <td>7</td>\n",
       "    </tr>\n",
       "    <tr>\n",
       "      <th>99.5-109</th>\n",
       "      <td>5</td>\n",
       "    </tr>\n",
       "  </tbody>\n",
       "</table>\n",
       "</div>"
      ],
      "text/plain": [
       "          frekans\n",
       "indec            \n",
       "52 -61.5        2\n",
       "61.5-71        13\n",
       "71-80.5        18\n",
       "80.5-90         5\n",
       "90-99.5         7\n",
       "99.5-109        5"
      ]
     },
     "execution_count": 234,
     "metadata": {},
     "output_type": "execute_result"
    }
   ],
   "source": [
    "dff_1"
   ]
  },
  {
   "cell_type": "code",
   "execution_count": 235,
   "id": "1d226427-d4f8-465c-bdee-2d7d1d911991",
   "metadata": {},
   "outputs": [],
   "source": [
    "df_cum = dff_1"
   ]
  },
  {
   "cell_type": "code",
   "execution_count": 237,
   "id": "293d35f0-aae1-4acd-9cf9-e24976b0a486",
   "metadata": {},
   "outputs": [],
   "source": [
    "cumulatif = [2,15,33,38,45,50]"
   ]
  },
  {
   "cell_type": "code",
   "execution_count": 238,
   "id": "981ae41d-107f-4fad-8629-e9edcca442b6",
   "metadata": {},
   "outputs": [],
   "source": [
    "df_cum.frekans = cumulatif"
   ]
  },
  {
   "cell_type": "code",
   "execution_count": 239,
   "id": "31cebf74-2ab2-4c67-8cfd-a0f4a13c8b0b",
   "metadata": {},
   "outputs": [
    {
     "data": {
      "text/html": [
       "<div>\n",
       "<style scoped>\n",
       "    .dataframe tbody tr th:only-of-type {\n",
       "        vertical-align: middle;\n",
       "    }\n",
       "\n",
       "    .dataframe tbody tr th {\n",
       "        vertical-align: top;\n",
       "    }\n",
       "\n",
       "    .dataframe thead th {\n",
       "        text-align: right;\n",
       "    }\n",
       "</style>\n",
       "<table border=\"1\" class=\"dataframe\">\n",
       "  <thead>\n",
       "    <tr style=\"text-align: right;\">\n",
       "      <th></th>\n",
       "      <th>frekans</th>\n",
       "    </tr>\n",
       "    <tr>\n",
       "      <th>indec</th>\n",
       "      <th></th>\n",
       "    </tr>\n",
       "  </thead>\n",
       "  <tbody>\n",
       "    <tr>\n",
       "      <th>52 -61.5</th>\n",
       "      <td>2</td>\n",
       "    </tr>\n",
       "    <tr>\n",
       "      <th>61.5-71</th>\n",
       "      <td>15</td>\n",
       "    </tr>\n",
       "    <tr>\n",
       "      <th>71-80.5</th>\n",
       "      <td>33</td>\n",
       "    </tr>\n",
       "    <tr>\n",
       "      <th>80.5-90</th>\n",
       "      <td>38</td>\n",
       "    </tr>\n",
       "    <tr>\n",
       "      <th>90-99.5</th>\n",
       "      <td>45</td>\n",
       "    </tr>\n",
       "    <tr>\n",
       "      <th>99.5-109</th>\n",
       "      <td>50</td>\n",
       "    </tr>\n",
       "  </tbody>\n",
       "</table>\n",
       "</div>"
      ],
      "text/plain": [
       "          frekans\n",
       "indec            \n",
       "52 -61.5        2\n",
       "61.5-71        15\n",
       "71-80.5        33\n",
       "80.5-90        38\n",
       "90-99.5        45\n",
       "99.5-109       50"
      ]
     },
     "execution_count": 239,
     "metadata": {},
     "output_type": "execute_result"
    }
   ],
   "source": [
    "df_cum ## kümülatif"
   ]
  },
  {
   "cell_type": "code",
   "execution_count": null,
   "id": "b10842c9-ae5b-44e6-83a1-4901a48800db",
   "metadata": {},
   "outputs": [],
   "source": []
  }
 ],
 "metadata": {
  "kernelspec": {
   "display_name": "Python 3 (ipykernel)",
   "language": "python",
   "name": "python3"
  },
  "language_info": {
   "codemirror_mode": {
    "name": "ipython",
    "version": 3
   },
   "file_extension": ".py",
   "mimetype": "text/x-python",
   "name": "python",
   "nbconvert_exporter": "python",
   "pygments_lexer": "ipython3",
   "version": "3.9.13"
  }
 },
 "nbformat": 4,
 "nbformat_minor": 5
}
