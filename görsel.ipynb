{
 "cells": [
  {
   "cell_type": "code",
   "execution_count": 39,
   "id": "371a0124-b584-41ee-aaed-0467275bc918",
   "metadata": {},
   "outputs": [],
   "source": [
    "import pandas as pd\n",
    "import numpy as np \n",
    "import seaborn as sns \n",
    "import pandas as pd\n",
    "from matplotlib import pyplot as plt"
   ]
  },
  {
   "cell_type": "code",
   "execution_count": 21,
   "id": "ba6c2a2e-e72f-4cbc-8ce5-fff39217fbd9",
   "metadata": {},
   "outputs": [],
   "source": [
    "df = np.array([\"y\",\"x\",\"x\",\"z\",\"x\",\"y\",\"y\",\"y\",\"x\",\"x\",\"z\",\"x\",\"y\",\"y\",\"x\",\"z\",\"y\",\"y\",\"y\",\"x\"])"
   ]
  },
  {
   "cell_type": "code",
   "execution_count": null,
   "id": "3365c138-3756-43e6-b3ae-a7b7e4f16cb3",
   "metadata": {},
   "outputs": [],
   "source": [
    "df_2 = np.array([])"
   ]
  },
  {
   "cell_type": "code",
   "execution_count": 81,
   "id": "1848d538-2b65-4e91-95ea-51c99bf39597",
   "metadata": {},
   "outputs": [],
   "source": [
    "df_np = np.array([\"y\",\"x\",\"x\",\"z\",\"x\",\"y\",\"y\",\"y\",\"x\",\"x\",\"z\",\"x\",\"y\",\"y\",\"x\",\"z\",\"y\",\"y\",\"y\",\"x\"])"
   ]
  },
  {
   "cell_type": "code",
   "execution_count": 22,
   "id": "1a79d7ee-920d-424f-b4bb-6cb24bb8f033",
   "metadata": {},
   "outputs": [],
   "source": [
    "df = pd.DataFrame(df)"
   ]
  },
  {
   "cell_type": "code",
   "execution_count": 27,
   "id": "2320dcda-53b9-44c0-8582-f6452ef90e24",
   "metadata": {},
   "outputs": [],
   "source": [
    "df.rename(columns = {\"0\" : \"harfler\"} , inplace = True )"
   ]
  },
  {
   "cell_type": "code",
   "execution_count": 28,
   "id": "d0fa6377-db6f-4700-b3f9-02c9b3989f90",
   "metadata": {},
   "outputs": [
    {
     "data": {
      "text/html": [
       "<div>\n",
       "<style scoped>\n",
       "    .dataframe tbody tr th:only-of-type {\n",
       "        vertical-align: middle;\n",
       "    }\n",
       "\n",
       "    .dataframe tbody tr th {\n",
       "        vertical-align: top;\n",
       "    }\n",
       "\n",
       "    .dataframe thead th {\n",
       "        text-align: right;\n",
       "    }\n",
       "</style>\n",
       "<table border=\"1\" class=\"dataframe\">\n",
       "  <thead>\n",
       "    <tr style=\"text-align: right;\">\n",
       "      <th></th>\n",
       "      <th>harfler</th>\n",
       "    </tr>\n",
       "  </thead>\n",
       "  <tbody>\n",
       "    <tr>\n",
       "      <th>0</th>\n",
       "      <td>y</td>\n",
       "    </tr>\n",
       "    <tr>\n",
       "      <th>1</th>\n",
       "      <td>x</td>\n",
       "    </tr>\n",
       "    <tr>\n",
       "      <th>2</th>\n",
       "      <td>x</td>\n",
       "    </tr>\n",
       "    <tr>\n",
       "      <th>3</th>\n",
       "      <td>z</td>\n",
       "    </tr>\n",
       "    <tr>\n",
       "      <th>4</th>\n",
       "      <td>x</td>\n",
       "    </tr>\n",
       "    <tr>\n",
       "      <th>5</th>\n",
       "      <td>y</td>\n",
       "    </tr>\n",
       "    <tr>\n",
       "      <th>6</th>\n",
       "      <td>y</td>\n",
       "    </tr>\n",
       "    <tr>\n",
       "      <th>7</th>\n",
       "      <td>y</td>\n",
       "    </tr>\n",
       "    <tr>\n",
       "      <th>8</th>\n",
       "      <td>x</td>\n",
       "    </tr>\n",
       "    <tr>\n",
       "      <th>9</th>\n",
       "      <td>x</td>\n",
       "    </tr>\n",
       "    <tr>\n",
       "      <th>10</th>\n",
       "      <td>z</td>\n",
       "    </tr>\n",
       "    <tr>\n",
       "      <th>11</th>\n",
       "      <td>x</td>\n",
       "    </tr>\n",
       "    <tr>\n",
       "      <th>12</th>\n",
       "      <td>y</td>\n",
       "    </tr>\n",
       "    <tr>\n",
       "      <th>13</th>\n",
       "      <td>y</td>\n",
       "    </tr>\n",
       "    <tr>\n",
       "      <th>14</th>\n",
       "      <td>x</td>\n",
       "    </tr>\n",
       "    <tr>\n",
       "      <th>15</th>\n",
       "      <td>z</td>\n",
       "    </tr>\n",
       "    <tr>\n",
       "      <th>16</th>\n",
       "      <td>y</td>\n",
       "    </tr>\n",
       "    <tr>\n",
       "      <th>17</th>\n",
       "      <td>y</td>\n",
       "    </tr>\n",
       "    <tr>\n",
       "      <th>18</th>\n",
       "      <td>y</td>\n",
       "    </tr>\n",
       "    <tr>\n",
       "      <th>19</th>\n",
       "      <td>x</td>\n",
       "    </tr>\n",
       "  </tbody>\n",
       "</table>\n",
       "</div>"
      ],
      "text/plain": [
       "   harfler\n",
       "0        y\n",
       "1        x\n",
       "2        x\n",
       "3        z\n",
       "4        x\n",
       "5        y\n",
       "6        y\n",
       "7        y\n",
       "8        x\n",
       "9        x\n",
       "10       z\n",
       "11       x\n",
       "12       y\n",
       "13       y\n",
       "14       x\n",
       "15       z\n",
       "16       y\n",
       "17       y\n",
       "18       y\n",
       "19       x"
      ]
     },
     "execution_count": 28,
     "metadata": {},
     "output_type": "execute_result"
    }
   ],
   "source": [
    "df"
   ]
  },
  {
   "cell_type": "code",
   "execution_count": 29,
   "id": "b089ef97-9c48-4c99-9f49-da27fc369e21",
   "metadata": {},
   "outputs": [
    {
     "data": {
      "text/plain": [
       "(20, 1)"
      ]
     },
     "execution_count": 29,
     "metadata": {},
     "output_type": "execute_result"
    }
   ],
   "source": [
    "df.shape"
   ]
  },
  {
   "cell_type": "code",
   "execution_count": 86,
   "id": "b62c5dd5-4f21-4105-8528-f94fe3d37780",
   "metadata": {},
   "outputs": [],
   "source": [
    "b = df.value_counts()"
   ]
  },
  {
   "cell_type": "markdown",
   "id": "043d55b0-5ebe-4c73-abe3-99b6fbe14632",
   "metadata": {},
   "source": [
    "Bar graph \n",
    "i'll use matplot library for drawing bar graph "
   ]
  },
  {
   "cell_type": "code",
   "execution_count": 40,
   "id": "38f08bc6-41a6-46b3-8dda-5eac5551ee8d",
   "metadata": {},
   "outputs": [
    {
     "data": {
      "text/plain": [
       "<Figure size 1000x700 with 0 Axes>"
      ]
     },
     "metadata": {},
     "output_type": "display_data"
    }
   ],
   "source": [
    "fig = plt.figure(figsize = (10,7))\n",
    "plt.bar(df[\"harfler\"].value_cou)"
   ]
  },
  {
   "cell_type": "code",
   "execution_count": 45,
   "id": "d3672337-f0fd-4c96-82a6-88edd7c33e13",
   "metadata": {},
   "outputs": [
    {
     "data": {
      "text/plain": [
       "array(['y', 'x', 'z'], dtype=object)"
      ]
     },
     "execution_count": 45,
     "metadata": {},
     "output_type": "execute_result"
    }
   ],
   "source": [
    "pd.unique(df[\"harfler\"])"
   ]
  },
  {
   "cell_type": "code",
   "execution_count": 51,
   "id": "82f9804d-f31d-41f5-87e4-9856a03d1418",
   "metadata": {},
   "outputs": [],
   "source": [
    " a = pd.DataFrame(df[\"harfler\"].value_counts())"
   ]
  },
  {
   "cell_type": "code",
   "execution_count": 74,
   "id": "31825cd3-dbd2-4812-957e-4361f19a4c11",
   "metadata": {},
   "outputs": [
    {
     "data": {
      "text/plain": [
       "array(['y', 'x', 'z'], dtype=object)"
      ]
     },
     "execution_count": 74,
     "metadata": {},
     "output_type": "execute_result"
    }
   ],
   "source": [
    "pd.unique(df[\"harfler\"])"
   ]
  },
  {
   "cell_type": "code",
   "execution_count": 79,
   "id": "5146bda1-36f3-483f-86b7-c92dbb5cf826",
   "metadata": {},
   "outputs": [
    {
     "data": {
      "text/plain": [
       "y    9\n",
       "x    8\n",
       "z    3\n",
       "Name: harfler, dtype: int64"
      ]
     },
     "execution_count": 79,
     "metadata": {},
     "output_type": "execute_result"
    }
   ],
   "source": [
    "df[\"harfler\"].value_counts()"
   ]
  },
  {
   "cell_type": "code",
   "execution_count": 93,
   "id": "ef9070c7-5711-424d-8020-ba234f3a8e85",
   "metadata": {},
   "outputs": [
    {
     "data": {
      "text/html": [
       "<div>\n",
       "<style scoped>\n",
       "    .dataframe tbody tr th:only-of-type {\n",
       "        vertical-align: middle;\n",
       "    }\n",
       "\n",
       "    .dataframe tbody tr th {\n",
       "        vertical-align: top;\n",
       "    }\n",
       "\n",
       "    .dataframe thead th {\n",
       "        text-align: right;\n",
       "    }\n",
       "</style>\n",
       "<table border=\"1\" class=\"dataframe\">\n",
       "  <thead>\n",
       "    <tr style=\"text-align: right;\">\n",
       "      <th></th>\n",
       "      <th>harfler</th>\n",
       "    </tr>\n",
       "  </thead>\n",
       "  <tbody>\n",
       "    <tr>\n",
       "      <th>y</th>\n",
       "      <td>9</td>\n",
       "    </tr>\n",
       "    <tr>\n",
       "      <th>x</th>\n",
       "      <td>8</td>\n",
       "    </tr>\n",
       "    <tr>\n",
       "      <th>z</th>\n",
       "      <td>3</td>\n",
       "    </tr>\n",
       "  </tbody>\n",
       "</table>\n",
       "</div>"
      ],
      "text/plain": [
       "   harfler\n",
       "y        9\n",
       "x        8\n",
       "z        3"
      ]
     },
     "execution_count": 93,
     "metadata": {},
     "output_type": "execute_result"
    }
   ],
   "source": [
    "a[harfler]"
   ]
  },
  {
   "cell_type": "code",
   "execution_count": 78,
   "id": "b5069342-16d1-4ee4-9a1c-a39f8a051f73",
   "metadata": {},
   "outputs": [
    {
     "data": {
      "image/png": "[encoded data removed]",
      "text/plain": [
       "<Figure size 1200x600 with 1 Axes>"
      ]
     },
     "metadata": {},
     "output_type": "display_data"
    }
   ],
   "source": [
    "fig = plt.figure(figsize =(12,6))\n",
    "plt.bar(pd.unique(df[\"harfler\"]) , df.value_counts())\n",
    "plt.xlabel(\"değerler\")\n",
    "plt.ylabel(\"sayıları\")\n",
    "plt.show()"
   ]
  },
  {
   "cell_type": "code",
   "execution_count": 73,
   "id": "7d55a06e-a67e-46ce-b70b-78a9859f6820",
   "metadata": {},
   "outputs": [
    {
     "data": {
      "image/png": "[encoded data removed]",
      "text/plain": [
       "<Figure size 1200x600 with 1 Axes>"
      ]
     },
     "metadata": {},
     "output_type": "display_data"
    }
   ],
   "source": [
    "fig = plt.figure(figsize =(12,6))\n",
    "plt.bar(a.index , a.harfler)\n",
    "plt.xlabel(\"değerler\")\n",
    "plt.ylabel(\"sayıları\")\n",
    "plt.show()"
   ]
  },
  {
   "cell_type": "markdown",
   "id": "320fe4b5-7eed-495c-8627-ee843c66cdb7",
   "metadata": {},
   "source": [
    "pie chart "
   ]
  },
  {
   "cell_type": "markdown",
   "id": "4bd17b5b-202a-41b0-96bf-2ce5e77717d2",
   "metadata": {},
   "source": [
    "direk numpy arrayini kullanabiliriz:"
   ]
  },
  {
   "cell_type": "code",
   "execution_count": 102,
   "id": "e067f659-f7a4-4dcb-9314-ea58fa3871cd",
   "metadata": {},
   "outputs": [
    {
     "data": {
      "text/plain": [
       "pandas.core.frame.DataFrame"
      ]
     },
     "execution_count": 102,
     "metadata": {},
     "output_type": "execute_result"
    }
   ],
   "source": [
    "type(df)"
   ]
  },
  {
   "cell_type": "code",
   "execution_count": 103,
   "id": "1a1788e6-1e98-4936-b09d-5de9ed7af362",
   "metadata": {},
   "outputs": [
    {
     "data": {
      "text/html": [
       "<div>\n",
       "<style scoped>\n",
       "    .dataframe tbody tr th:only-of-type {\n",
       "        vertical-align: middle;\n",
       "    }\n",
       "\n",
       "    .dataframe tbody tr th {\n",
       "        vertical-align: top;\n",
       "    }\n",
       "\n",
       "    .dataframe thead th {\n",
       "        text-align: right;\n",
       "    }\n",
       "</style>\n",
       "<table border=\"1\" class=\"dataframe\">\n",
       "  <thead>\n",
       "    <tr style=\"text-align: right;\">\n",
       "      <th></th>\n",
       "      <th>harfler</th>\n",
       "    </tr>\n",
       "  </thead>\n",
       "  <tbody>\n",
       "    <tr>\n",
       "      <th>0</th>\n",
       "      <td>y</td>\n",
       "    </tr>\n",
       "    <tr>\n",
       "      <th>1</th>\n",
       "      <td>x</td>\n",
       "    </tr>\n",
       "    <tr>\n",
       "      <th>2</th>\n",
       "      <td>x</td>\n",
       "    </tr>\n",
       "    <tr>\n",
       "      <th>3</th>\n",
       "      <td>z</td>\n",
       "    </tr>\n",
       "    <tr>\n",
       "      <th>4</th>\n",
       "      <td>x</td>\n",
       "    </tr>\n",
       "    <tr>\n",
       "      <th>5</th>\n",
       "      <td>y</td>\n",
       "    </tr>\n",
       "    <tr>\n",
       "      <th>6</th>\n",
       "      <td>y</td>\n",
       "    </tr>\n",
       "    <tr>\n",
       "      <th>7</th>\n",
       "      <td>y</td>\n",
       "    </tr>\n",
       "    <tr>\n",
       "      <th>8</th>\n",
       "      <td>x</td>\n",
       "    </tr>\n",
       "    <tr>\n",
       "      <th>9</th>\n",
       "      <td>x</td>\n",
       "    </tr>\n",
       "    <tr>\n",
       "      <th>10</th>\n",
       "      <td>z</td>\n",
       "    </tr>\n",
       "    <tr>\n",
       "      <th>11</th>\n",
       "      <td>x</td>\n",
       "    </tr>\n",
       "    <tr>\n",
       "      <th>12</th>\n",
       "      <td>y</td>\n",
       "    </tr>\n",
       "    <tr>\n",
       "      <th>13</th>\n",
       "      <td>y</td>\n",
       "    </tr>\n",
       "    <tr>\n",
       "      <th>14</th>\n",
       "      <td>x</td>\n",
       "    </tr>\n",
       "    <tr>\n",
       "      <th>15</th>\n",
       "      <td>z</td>\n",
       "    </tr>\n",
       "    <tr>\n",
       "      <th>16</th>\n",
       "      <td>y</td>\n",
       "    </tr>\n",
       "    <tr>\n",
       "      <th>17</th>\n",
       "      <td>y</td>\n",
       "    </tr>\n",
       "    <tr>\n",
       "      <th>18</th>\n",
       "      <td>y</td>\n",
       "    </tr>\n",
       "    <tr>\n",
       "      <th>19</th>\n",
       "      <td>x</td>\n",
       "    </tr>\n",
       "  </tbody>\n",
       "</table>\n",
       "</div>"
      ],
      "text/plain": [
       "   harfler\n",
       "0        y\n",
       "1        x\n",
       "2        x\n",
       "3        z\n",
       "4        x\n",
       "5        y\n",
       "6        y\n",
       "7        y\n",
       "8        x\n",
       "9        x\n",
       "10       z\n",
       "11       x\n",
       "12       y\n",
       "13       y\n",
       "14       x\n",
       "15       z\n",
       "16       y\n",
       "17       y\n",
       "18       y\n",
       "19       x"
      ]
     },
     "execution_count": 103,
     "metadata": {},
     "output_type": "execute_result"
    }
   ],
   "source": [
    "df"
   ]
  },
  {
   "cell_type": "code",
   "execution_count": 131,
   "id": "ab3d91e2-7f71-427b-8257-9648aaa2a755",
   "metadata": {},
   "outputs": [],
   "source": [
    " harfler = [\"x\",\"y\",\"z\"]"
   ]
  },
  {
   "cell_type": "code",
   "execution_count": 137,
   "id": "707ae918-9212-42b8-ad97-63b474996b89",
   "metadata": {},
   "outputs": [],
   "source": [
    "df_3 = pd.DataFrame({\"harfler\" : [\"x\",\"y\",\"z\",\"x\",\"y\",\"z\",\"y\",\"z\"],\n",
    "                    \"degerleri\" : [1,1,1,1,1,1,1,1]})"
   ]
  },
  {
   "cell_type": "code",
   "execution_count": 255,
   "id": "05aaded4-7277-4da9-b58b-fcdc0ee3e307",
   "metadata": {},
   "outputs": [
    {
     "data": {
      "text/plain": [
       "harfler  degerleri\n",
       "y        1            3\n",
       "z        1            3\n",
       "x        1            2\n",
       "dtype: int64"
      ]
     },
     "execution_count": 255,
     "metadata": {},
     "output_type": "execute_result"
    }
   ],
   "source": [
    "a_3 =  df_3.value_counts()\n",
    "a_3"
   ]
  },
  {
   "cell_type": "code",
   "execution_count": 162,
   "id": "864c860f-b3da-4e69-973d-00148132e99e",
   "metadata": {},
   "outputs": [
    {
     "data": {
      "text/plain": [
       "([<matplotlib.patches.Wedge at 0x1d5ce0a87c0>,\n",
       "  <matplotlib.patches.Wedge at 0x1d5cdf8ae50>,\n",
       "  <matplotlib.patches.Wedge at 0x1d5cdf8a220>],\n",
       " [Text(0.42095177560159885, 1.0162674857624154, ''),\n",
       "  Text(-1.0162674857624157, -0.4209517756015987, ''),\n",
       "  Text(0.7778174593052022, -0.7778174593052025, '')])"
      ]
     },
     "execution_count": 162,
     "metadata": {},
     "output_type": "execute_result"
    },
    {
     "data": {
      "image/png": "[encoded data removed]",
      "text/plain": [
       "<Figure size 1200x600 with 1 Axes>"
      ]
     },
     "metadata": {},
     "output_type": "display_data"
    }
   ],
   "source": [
    "plt.figure(figsize= (12,6))\n",
    "plt.pie(a_3)"
   ]
  },
  {
   "cell_type": "code",
   "execution_count": 178,
   "id": "ca00e8df-c3c9-4f52-9ee0-7d72300ea3c7",
   "metadata": {},
   "outputs": [],
   "source": [
    "df_4 = pd.DataFrame({\"harfler\" :[\"x\",\"y\",\"z\"],\n",
    "                    \"sayıları\" : [10,9,4]})"
   ]
  },
  {
   "cell_type": "code",
   "execution_count": 179,
   "id": "02c96884-05ef-4f16-90c4-70a862655e25",
   "metadata": {},
   "outputs": [
    {
     "data": {
      "text/html": [
       "<div>\n",
       "<style scoped>\n",
       "    .dataframe tbody tr th:only-of-type {\n",
       "        vertical-align: middle;\n",
       "    }\n",
       "\n",
       "    .dataframe tbody tr th {\n",
       "        vertical-align: top;\n",
       "    }\n",
       "\n",
       "    .dataframe thead th {\n",
       "        text-align: right;\n",
       "    }\n",
       "</style>\n",
       "<table border=\"1\" class=\"dataframe\">\n",
       "  <thead>\n",
       "    <tr style=\"text-align: right;\">\n",
       "      <th></th>\n",
       "      <th>harfler</th>\n",
       "      <th>sayıları</th>\n",
       "    </tr>\n",
       "  </thead>\n",
       "  <tbody>\n",
       "    <tr>\n",
       "      <th>0</th>\n",
       "      <td>x</td>\n",
       "      <td>10</td>\n",
       "    </tr>\n",
       "    <tr>\n",
       "      <th>1</th>\n",
       "      <td>y</td>\n",
       "      <td>9</td>\n",
       "    </tr>\n",
       "    <tr>\n",
       "      <th>2</th>\n",
       "      <td>z</td>\n",
       "      <td>4</td>\n",
       "    </tr>\n",
       "  </tbody>\n",
       "</table>\n",
       "</div>"
      ],
      "text/plain": [
       "  harfler  sayıları\n",
       "0       x        10\n",
       "1       y         9\n",
       "2       z         4"
      ]
     },
     "execution_count": 179,
     "metadata": {},
     "output_type": "execute_result"
    }
   ],
   "source": [
    "df_4"
   ]
  },
  {
   "cell_type": "code",
   "execution_count": 180,
   "id": "aa124e05-30a2-4c02-a488-a45523837e5e",
   "metadata": {},
   "outputs": [
    {
     "data": {
      "text/html": [
       "<div>\n",
       "<style scoped>\n",
       "    .dataframe tbody tr th:only-of-type {\n",
       "        vertical-align: middle;\n",
       "    }\n",
       "\n",
       "    .dataframe tbody tr th {\n",
       "        vertical-align: top;\n",
       "    }\n",
       "\n",
       "    .dataframe thead th {\n",
       "        text-align: right;\n",
       "    }\n",
       "</style>\n",
       "<table border=\"1\" class=\"dataframe\">\n",
       "  <thead>\n",
       "    <tr style=\"text-align: right;\">\n",
       "      <th></th>\n",
       "      <th>sayıları</th>\n",
       "    </tr>\n",
       "    <tr>\n",
       "      <th>harfler</th>\n",
       "      <th></th>\n",
       "    </tr>\n",
       "  </thead>\n",
       "  <tbody>\n",
       "    <tr>\n",
       "      <th>x</th>\n",
       "      <td>10</td>\n",
       "    </tr>\n",
       "    <tr>\n",
       "      <th>y</th>\n",
       "      <td>9</td>\n",
       "    </tr>\n",
       "    <tr>\n",
       "      <th>z</th>\n",
       "      <td>4</td>\n",
       "    </tr>\n",
       "  </tbody>\n",
       "</table>\n",
       "</div>"
      ],
      "text/plain": [
       "         sayıları\n",
       "harfler          \n",
       "x              10\n",
       "y               9\n",
       "z               4"
      ]
     },
     "execution_count": 180,
     "metadata": {},
     "output_type": "execute_result"
    }
   ],
   "source": [
    "df_4.groupby(\"harfler\").sum().plot()"
   ]
  },
  {
   "cell_type": "code",
   "execution_count": 182,
   "id": "39874a6f-1329-4b0b-b133-7472cd15e94b",
   "metadata": {},
   "outputs": [
    {
     "data": {
      "text/plain": [
       "([<matplotlib.patches.Wedge at 0x1d5ce7a8040>,\n",
       "  <matplotlib.patches.Wedge at 0x1d5ce7a8a30>,\n",
       "  <matplotlib.patches.Wedge at 0x1d5ce7a8f10>],\n",
       " [Text(0.22380166258348247, 1.0769924864291622, 'x'),\n",
       "  Text(-0.7508085393539738, -0.8039194842974964, 'y'),\n",
       "  Text(0.9398612856729914, -0.5715424425999454, 'z')])"
      ]
     },
     "execution_count": 182,
     "metadata": {},
     "output_type": "execute_result"
    },
    {
     "data": {
      "image/png": "[encoded data removed]",
      "text/plain": [
       "<Figure size 640x480 with 1 Axes>"
      ]
     },
     "metadata": {},
     "output_type": "display_data"
    }
   ],
   "source": [
    "plt.pie(df_4[\"sayıları\"], labels = df_4.harfler)"
   ]
  },
  {
   "cell_type": "code",
   "execution_count": 250,
   "id": "964a497a-8ce4-42cc-922b-5433350a2ec2",
   "metadata": {},
   "outputs": [],
   "source": [
    "levellist = [\"Level1\" , \"Level2\", \"Level3\" , \"Level4\" , \"Level5\" , \"Level6\"]\n",
    "numbers = [39,76,50,87,11,3]"
   ]
  },
  {
   "cell_type": "markdown",
   "id": "56efa2e3-1926-4a28-8bff-345b01673b88",
   "metadata": {},
   "source": [
    "bar graph için direk dataframeden columnları çekip yapabiliriz ancak bu örnekte dataframe yerine listeler kullanacağız aynı mantık"
   ]
  },
  {
   "cell_type": "code",
   "execution_count": 252,
   "id": "f02cd1ef-2301-43c2-a00d-eeb99c6274f9",
   "metadata": {},
   "outputs": [
    {
     "data": {
      "text/plain": [
       "<BarContainer object of 6 artists>"
      ]
     },
     "execution_count": 252,
     "metadata": {},
     "output_type": "execute_result"
    },
    {
     "data": {
      "image/png": "[encoded data removed]",
      "text/plain": [
       "<Figure size 1200x600 with 1 Axes>"
      ]
     },
     "metadata": {},
     "output_type": "display_data"
    }
   ],
   "source": [
    "\n",
    "plt.bar(levellist, numbers)"
   ]
  },
  {
   "cell_type": "markdown",
   "id": "9e6a1d84-4912-4ac4-a287-31087415e183",
   "metadata": {},
   "source": [
    "pie chart çizimi /// plt.pie(df.value_counts()) //// iki liste ile oranını istediğin listeyi ilk kısma yaz index veya isim için lables = komutunu çappır"
   ]
  },
  {
   "cell_type": "code",
   "execution_count": 261,
   "id": "01bd50cf-ce7d-4469-8ad5-1b1ecd632258",
   "metadata": {},
   "outputs": [],
   "source": [
    "df = pd.DataFrame(levellist, columns= [\"Levels \"])"
   ]
  },
  {
   "cell_type": "code",
   "execution_count": 262,
   "id": "dd39332c-d0f1-458e-be45-89c8c90326c2",
   "metadata": {},
   "outputs": [],
   "source": [
    "df[\"numbers\"] = numbers"
   ]
  },
  {
   "cell_type": "code",
   "execution_count": 271,
   "id": "da31a1a2-7808-4ddd-804d-a195dfad0b23",
   "metadata": {},
   "outputs": [
    {
     "data": {
      "text/plain": [
       "array([['Level1', 39],\n",
       "       ['Level2', 76],\n",
       "       ['Level3', 50],\n",
       "       ['Level4', 87],\n",
       "       ['Level5', 11],\n",
       "       ['Level6', 3]], dtype=object)"
      ]
     },
     "execution_count": 271,
     "metadata": {},
     "output_type": "execute_result"
    }
   ],
   "source": [
    "df_v = df.values\n",
    "df_v"
   ]
  },
  {
   "cell_type": "code",
   "execution_count": 275,
   "id": "71893d84-4d2a-45b8-91f4-40558faf64d0",
   "metadata": {},
   "outputs": [
    {
     "data": {
      "text/plain": [
       "([<matplotlib.patches.Wedge at 0x1d5d0330ee0>,\n",
       "  <matplotlib.patches.Wedge at 0x1d5d0340430>,\n",
       "  <matplotlib.patches.Wedge at 0x1d5d0340910>,\n",
       "  <matplotlib.patches.Wedge at 0x1d5d0340df0>,\n",
       "  <matplotlib.patches.Wedge at 0x1d5d034b310>,\n",
       "  <matplotlib.patches.Wedge at 0x1d5d034b7f0>],\n",
       " [Text(0.9853599333701518, 0.4889435567719143, 'Level1'),\n",
       "  Text(-0.27003412518360026, 1.0663402699121551, 'Level2'),\n",
       "  Text(-1.0849974123305617, -0.181054177626437, 'Level3'),\n",
       "  Text(0.2320905619794853, -1.075236704656257, 'Level4'),\n",
       "  Text(1.0779028127087644, -0.21937530935484673, 'Level5'),\n",
       "  Text(1.099309612265833, -0.03896634932789853, 'Level6')])"
      ]
     },
     "execution_count": 275,
     "metadata": {},
     "output_type": "execute_result"
    },
    {
     "data": {
      "image/png": "[encoded data removed]",
      "text/plain": [
       "<Figure size 1200x600 with 1 Axes>"
      ]
     },
     "metadata": {},
     "output_type": "display_data"
    }
   ],
   "source": [
    "plt.figure(figsize = (12,6))\n",
    "plt.pie(numbers,labels = levellist)"
   ]
  },
  {
   "cell_type": "code",
   "execution_count": 276,
   "id": "9e1bc6ca-6d8b-4c56-bc9f-90d899021ccb",
   "metadata": {},
   "outputs": [],
   "source": [
    "dif = pd.DataFrame({\"entity\":[\"Goverment\",\"Military\",\"Commercial\",\"Civil\"],\n",
    "                   \"LEO Satellites\" : [193,88,130,31],\n",
    "                   \"Geo satellites\" : [45,67,253,1]})"
   ]
  },
  {
   "cell_type": "code",
   "execution_count": 277,
   "id": "3d3c4f50-384e-4f4e-86cd-8b3686178d6e",
   "metadata": {},
   "outputs": [
    {
     "data": {
      "text/html": [
       "<div>\n",
       "<style scoped>\n",
       "    .dataframe tbody tr th:only-of-type {\n",
       "        vertical-align: middle;\n",
       "    }\n",
       "\n",
       "    .dataframe tbody tr th {\n",
       "        vertical-align: top;\n",
       "    }\n",
       "\n",
       "    .dataframe thead th {\n",
       "        text-align: right;\n",
       "    }\n",
       "</style>\n",
       "<table border=\"1\" class=\"dataframe\">\n",
       "  <thead>\n",
       "    <tr style=\"text-align: right;\">\n",
       "      <th></th>\n",
       "      <th>entity</th>\n",
       "      <th>LEO Satellites</th>\n",
       "      <th>Geo satellites</th>\n",
       "    </tr>\n",
       "  </thead>\n",
       "  <tbody>\n",
       "    <tr>\n",
       "      <th>0</th>\n",
       "      <td>Goverment</td>\n",
       "      <td>193</td>\n",
       "      <td>45</td>\n",
       "    </tr>\n",
       "    <tr>\n",
       "      <th>1</th>\n",
       "      <td>Military</td>\n",
       "      <td>88</td>\n",
       "      <td>67</td>\n",
       "    </tr>\n",
       "    <tr>\n",
       "      <th>2</th>\n",
       "      <td>Commercial</td>\n",
       "      <td>130</td>\n",
       "      <td>253</td>\n",
       "    </tr>\n",
       "    <tr>\n",
       "      <th>3</th>\n",
       "      <td>Civil</td>\n",
       "      <td>31</td>\n",
       "      <td>1</td>\n",
       "    </tr>\n",
       "  </tbody>\n",
       "</table>\n",
       "</div>"
      ],
      "text/plain": [
       "       entity  LEO Satellites  Geo satellites\n",
       "0   Goverment             193              45\n",
       "1    Military              88              67\n",
       "2  Commercial             130             253\n",
       "3       Civil              31               1"
      ]
     },
     "execution_count": 277,
     "metadata": {},
     "output_type": "execute_result"
    }
   ],
   "source": [
    "dif"
   ]
  },
  {
   "cell_type": "code",
   "execution_count": 280,
   "id": "86977d78-beb7-4e75-8aa0-877f6da1775e",
   "metadata": {},
   "outputs": [
    {
     "data": {
      "text/html": [
       "<div>\n",
       "<style scoped>\n",
       "    .dataframe tbody tr th:only-of-type {\n",
       "        vertical-align: middle;\n",
       "    }\n",
       "\n",
       "    .dataframe tbody tr th {\n",
       "        vertical-align: top;\n",
       "    }\n",
       "\n",
       "    .dataframe thead th {\n",
       "        text-align: right;\n",
       "    }\n",
       "</style>\n",
       "<table border=\"1\" class=\"dataframe\">\n",
       "  <thead>\n",
       "    <tr style=\"text-align: right;\">\n",
       "      <th></th>\n",
       "      <th>count</th>\n",
       "      <th>mean</th>\n",
       "      <th>std</th>\n",
       "      <th>min</th>\n",
       "      <th>25%</th>\n",
       "      <th>50%</th>\n",
       "      <th>75%</th>\n",
       "      <th>max</th>\n",
       "    </tr>\n",
       "  </thead>\n",
       "  <tbody>\n",
       "    <tr>\n",
       "      <th>LEO Satellites</th>\n",
       "      <td>4.0</td>\n",
       "      <td>110.5</td>\n",
       "      <td>68.344714</td>\n",
       "      <td>31.0</td>\n",
       "      <td>73.75</td>\n",
       "      <td>109.0</td>\n",
       "      <td>145.75</td>\n",
       "      <td>193.0</td>\n",
       "    </tr>\n",
       "    <tr>\n",
       "      <th>Geo satellites</th>\n",
       "      <td>4.0</td>\n",
       "      <td>91.5</td>\n",
       "      <td>111.108056</td>\n",
       "      <td>1.0</td>\n",
       "      <td>34.00</td>\n",
       "      <td>56.0</td>\n",
       "      <td>113.50</td>\n",
       "      <td>253.0</td>\n",
       "    </tr>\n",
       "  </tbody>\n",
       "</table>\n",
       "</div>"
      ],
      "text/plain": [
       "                count   mean         std   min    25%    50%     75%    max\n",
       "LEO Satellites    4.0  110.5   68.344714  31.0  73.75  109.0  145.75  193.0\n",
       "Geo satellites    4.0   91.5  111.108056   1.0  34.00   56.0  113.50  253.0"
      ]
     },
     "execution_count": 280,
     "metadata": {},
     "output_type": "execute_result"
    }
   ],
   "source": [
    "dif.describe().T"
   ]
  },
  {
   "cell_type": "code",
   "execution_count": 287,
   "id": "6b52988b-a250-445d-bf52-1b7348a493fc",
   "metadata": {},
   "outputs": [],
   "source": [
    "dif_  = dif.groupby([\"entity\"]).sum()"
   ]
  },
  {
   "cell_type": "code",
   "execution_count": 288,
   "id": "6dc7ed3f-f581-4f7c-a175-e813274b4295",
   "metadata": {},
   "outputs": [
    {
     "data": {
      "text/html": [
       "<div>\n",
       "<style scoped>\n",
       "    .dataframe tbody tr th:only-of-type {\n",
       "        vertical-align: middle;\n",
       "    }\n",
       "\n",
       "    .dataframe tbody tr th {\n",
       "        vertical-align: top;\n",
       "    }\n",
       "\n",
       "    .dataframe thead th {\n",
       "        text-align: right;\n",
       "    }\n",
       "</style>\n",
       "<table border=\"1\" class=\"dataframe\">\n",
       "  <thead>\n",
       "    <tr style=\"text-align: right;\">\n",
       "      <th></th>\n",
       "      <th>LEO Satellites</th>\n",
       "      <th>Geo satellites</th>\n",
       "    </tr>\n",
       "    <tr>\n",
       "      <th>entity</th>\n",
       "      <th></th>\n",
       "      <th></th>\n",
       "    </tr>\n",
       "  </thead>\n",
       "  <tbody>\n",
       "    <tr>\n",
       "      <th>Civil</th>\n",
       "      <td>31</td>\n",
       "      <td>1</td>\n",
       "    </tr>\n",
       "    <tr>\n",
       "      <th>Commercial</th>\n",
       "      <td>130</td>\n",
       "      <td>253</td>\n",
       "    </tr>\n",
       "    <tr>\n",
       "      <th>Goverment</th>\n",
       "      <td>193</td>\n",
       "      <td>45</td>\n",
       "    </tr>\n",
       "    <tr>\n",
       "      <th>Military</th>\n",
       "      <td>88</td>\n",
       "      <td>67</td>\n",
       "    </tr>\n",
       "  </tbody>\n",
       "</table>\n",
       "</div>"
      ],
      "text/plain": [
       "            LEO Satellites  Geo satellites\n",
       "entity                                    \n",
       "Civil                   31               1\n",
       "Commercial             130             253\n",
       "Goverment              193              45\n",
       "Military                88              67"
      ]
     },
     "execution_count": 288,
     "metadata": {},
     "output_type": "execute_result"
    }
   ],
   "source": [
    "dif_"
   ]
  },
  {
   "cell_type": "markdown",
   "id": "3b764cfe-ff89-4bf3-b723-b3c5a30c3478",
   "metadata": {},
   "source": [
    "dotplot"
   ]
  },
  {
   "cell_type": "code",
   "execution_count": null,
   "id": "5ecdff14-b34b-44c4-9d79-9e58be467ecb",
   "metadata": {},
   "outputs": [],
   "source": []
  }
 ],
 "metadata": {
  "kernelspec": {
   "display_name": "Python 3 (ipykernel)",
   "language": "python",
   "name": "python3"
  },
  "language_info": {
   "codemirror_mode": {
    "name": "ipython",
    "version": 3
   },
   "file_extension": ".py",
   "mimetype": "text/x-python",
   "name": "python",
   "nbconvert_exporter": "python",
   "pygments_lexer": "ipython3",
   "version": "3.9.13"
  }
 },
 "nbformat": 4,
 "nbformat_minor": 5
}
